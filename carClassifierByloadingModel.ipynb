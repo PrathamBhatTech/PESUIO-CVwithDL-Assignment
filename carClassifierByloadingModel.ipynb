{
 "cells": [
  {
   "cell_type": "code",
   "execution_count": null,
   "id": "aggressive-fellowship",
   "metadata": {},
   "outputs": [],
   "source": [
    "import tensorflow as tf\n",
    "from PIL import Image\n",
    "import numpy as np\n",
    "import keras\n",
    "from keras.preprocessing.image import load_img, img_to_array"
   ]
  },
  {
   "cell_type": "code",
   "execution_count": null,
   "id": "express-differential",
   "metadata": {},
   "outputs": [],
   "source": [
    "class_names = [\n",
    "    'Acura',\n",
    "    'Alfa Romeo',\n",
    "    'Aston Martin',\n",
    "    'Audi',\n",
    "    'Bentley',\n",
    "    'BMW',\n",
    "    'Buggati',\n",
    "    'Buick',\n",
    "    'Cadiallac'\n",
    "]"
   ]
  },
  {
   "cell_type": "code",
   "execution_count": null,
   "id": "loose-aging",
   "metadata": {
    "scrolled": true
   },
   "outputs": [],
   "source": [
    "model = tf.keras.models.load_model('C:/Jupyter-Notebooks/carmodel.h5')"
   ]
  },
  {
   "cell_type": "code",
   "execution_count": null,
   "id": "heard-magnitude",
   "metadata": {},
   "outputs": [],
   "source": [
    "model.compile(loss='categorial_crossentropy',\n",
    "              optimizer='rmsprop',\n",
    "              metrics=['accuracy']\n",
    "             )"
   ]
  },
  {
   "cell_type": "code",
   "execution_count": null,
   "id": "charitable-wilson",
   "metadata": {},
   "outputs": [],
   "source": [
    "# img = load_img('marvel/valid/hulk/pic_015.jpg')\n",
    "# img = img.resize((224, 224))\n",
    "# img = np.reshape(img, [1,224,224,3])\n",
    "# img = np.array(img)\n",
    "# img = np.array(img).astype('float32')/255\n",
    "# img = np.expand_dims(img, axis=-1)"
   ]
  },
  {
   "cell_type": "code",
   "execution_count": null,
   "id": "other-breathing",
   "metadata": {},
   "outputs": [],
   "source": [
    "img = Image.open('Cars/imgs_zip/imgs/Audi/Audi_036.jpg')\n",
    "# img.show()\n",
    "img = img.resize((224, 224))\n",
    "img = np.reshape(img, [1, 224, 224, 3])"
   ]
  },
  {
   "cell_type": "code",
   "execution_count": null,
   "id": "occupational-repeat",
   "metadata": {
    "scrolled": false
   },
   "outputs": [],
   "source": [
    "predictions = model.predict(img)"
   ]
  },
  {
   "cell_type": "code",
   "execution_count": null,
   "id": "german-florence",
   "metadata": {},
   "outputs": [],
   "source": [
    "#print(predictions[0])"
   ]
  },
  {
   "cell_type": "code",
   "execution_count": null,
   "id": "protected-cocktail",
   "metadata": {},
   "outputs": [],
   "source": [
    "#top_k_values, top_k_indices = tf.nn.top_k(predictions, k=3)"
   ]
  },
  {
   "cell_type": "code",
   "execution_count": null,
   "id": "future-organizer",
   "metadata": {},
   "outputs": [],
   "source": [
    "#print(top_k_values)"
   ]
  },
  {
   "cell_type": "code",
   "execution_count": null,
   "id": "bronze-teach",
   "metadata": {},
   "outputs": [],
   "source": [
    "#print(top_k_indices)"
   ]
  },
  {
   "cell_type": "code",
   "execution_count": null,
   "id": "convertible-metro",
   "metadata": {
    "scrolled": true
   },
   "outputs": [],
   "source": [
    "print(np.argmax(predictions))"
   ]
  },
  {
   "cell_type": "code",
   "execution_count": null,
   "id": "wrapped-junior",
   "metadata": {},
   "outputs": [],
   "source": [
    "clas = class_names[int(np.argmax(predictions)/10000)]\n",
    "print(clas)"
   ]
  }
 ],
 "metadata": {
  "kernelspec": {
   "display_name": "Python [conda env:tf-cpu]",
   "language": "python",
   "name": "conda-env-tf-cpu-py"
  },
  "language_info": {
   "codemirror_mode": {
    "name": "ipython",
    "version": 3
   },
   "file_extension": ".py",
   "mimetype": "text/x-python",
   "name": "python",
   "nbconvert_exporter": "python",
   "pygments_lexer": "ipython3",
   "version": "3.8.8"
  }
 },
 "nbformat": 4,
 "nbformat_minor": 5
}
